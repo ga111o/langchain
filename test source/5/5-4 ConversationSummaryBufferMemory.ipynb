{
 "cells": [
  {
   "cell_type": "markdown",
   "metadata": {},
   "source": [
    "## Memory\n",
    "### Conversation Buffer Summary Memory\n",
    "\n",
    "conversation summary memory + conversation window memory"
   ]
  },
  {
   "cell_type": "code",
   "execution_count": 1,
   "metadata": {},
   "outputs": [],
   "source": [
    "from langchain.memory import ConversationSummaryBufferMemory\n",
    "from langchain.chat_models import ChatOllama"
   ]
  },
  {
   "cell_type": "code",
   "execution_count": 2,
   "metadata": {},
   "outputs": [],
   "source": [
    "ollama = ChatOllama(\n",
    "    model = \"mistral:latest\",\n",
    "    temperature=0.1,\n",
    "    streaming=True,\n",
    ")"
   ]
  },
  {
   "cell_type": "code",
   "execution_count": 7,
   "metadata": {},
   "outputs": [],
   "source": [
    "memory = ConversationSummaryBufferMemory(\n",
    "    llm=ollama,\n",
    "    max_token_limit=150,\n",
    "    return_messages=True,\n",
    ")"
   ]
  },
  {
   "cell_type": "code",
   "execution_count": 8,
   "metadata": {},
   "outputs": [],
   "source": [
    "def add_message(input, output):\n",
    "    memory.save_context({\"input\": input}, {\"output\": output})\n",
    "\n",
    "\n",
    "def get_history():\n",
    "    return memory.load_memory_variables({})\n",
    "\n",
    "\n",
    "add_message(\"Hi I'm ga111o, I live in South Korea\", \"Wow that is so cool!\")"
   ]
  },
  {
   "cell_type": "code",
   "execution_count": 10,
   "metadata": {},
   "outputs": [
    {
     "data": {
      "text/plain": [
       "{'history': [HumanMessage(content=\"Hi I'm ga111o, I live in South Korea\"),\n",
       "  AIMessage(content='Wow that is so cool!')]}"
      ]
     },
     "execution_count": 10,
     "metadata": {},
     "output_type": "execute_result"
    }
   ],
   "source": [
    "get_history()"
   ]
  },
  {
   "cell_type": "code",
   "execution_count": 11,
   "metadata": {},
   "outputs": [],
   "source": [
    "add_message(\"i thinke Sourh korea is awsome!\", \"i agree too\")"
   ]
  },
  {
   "cell_type": "code",
   "execution_count": 13,
   "metadata": {},
   "outputs": [
    {
     "data": {
      "text/plain": [
       "{'history': [HumanMessage(content=\"Hi I'm ga111o, I live in South Korea\"),\n",
       "  AIMessage(content='Wow that is so cool!'),\n",
       "  HumanMessage(content='i thinke Sourh korea is awsome!'),\n",
       "  AIMessage(content='i agree too')]}"
      ]
     },
     "execution_count": 13,
     "metadata": {},
     "output_type": "execute_result"
    }
   ],
   "source": [
    "get_history()"
   ]
  },
  {
   "cell_type": "code",
   "execution_count": 15,
   "metadata": {},
   "outputs": [],
   "source": [
    "add_message(\"how far south korea and U.K\", \"i don't know...\")"
   ]
  },
  {
   "cell_type": "code",
   "execution_count": 16,
   "metadata": {},
   "outputs": [
    {
     "data": {
      "text/plain": [
       "{'history': [HumanMessage(content=\"Hi I'm ga111o, I live in South Korea\"),\n",
       "  AIMessage(content='Wow that is so cool!'),\n",
       "  HumanMessage(content='i thinke Sourh korea is awsome!'),\n",
       "  AIMessage(content='i agree too'),\n",
       "  HumanMessage(content='how far south korea and U.K'),\n",
       "  AIMessage(content=\"i don't know...\"),\n",
       "  HumanMessage(content='how far south korea and U.K'),\n",
       "  AIMessage(content=\"i don't know...\")]}"
      ]
     },
     "execution_count": 16,
     "metadata": {},
     "output_type": "execute_result"
    }
   ],
   "source": [
    "get_history()"
   ]
  },
  {
   "cell_type": "code",
   "execution_count": 17,
   "metadata": {},
   "outputs": [],
   "source": [
    "add_message(\"how far south korea and U.S\", \"maybe..  oops, i don't know.. so far!\")"
   ]
  },
  {
   "cell_type": "code",
   "execution_count": 18,
   "metadata": {},
   "outputs": [
    {
     "data": {
      "text/plain": [
       "{'history': [HumanMessage(content=\"Hi I'm ga111o, I live in South Korea\"),\n",
       "  AIMessage(content='Wow that is so cool!'),\n",
       "  HumanMessage(content='i thinke Sourh korea is awsome!'),\n",
       "  AIMessage(content='i agree too'),\n",
       "  HumanMessage(content='how far south korea and U.K'),\n",
       "  AIMessage(content=\"i don't know...\"),\n",
       "  HumanMessage(content='how far south korea and U.K'),\n",
       "  AIMessage(content=\"i don't know...\"),\n",
       "  HumanMessage(content='how far south korea and U.S'),\n",
       "  AIMessage(content=\"maybe..  oops, i don't know.. so far!\")]}"
      ]
     },
     "execution_count": 18,
     "metadata": {},
     "output_type": "execute_result"
    }
   ],
   "source": [
    "get_history()"
   ]
  },
  {
   "cell_type": "code",
   "execution_count": 23,
   "metadata": {},
   "outputs": [],
   "source": [
    "add_message(\"seoul is good!\", \"yes! better than jeju!\")"
   ]
  },
  {
   "cell_type": "code",
   "execution_count": 24,
   "metadata": {},
   "outputs": [
    {
     "data": {
      "text/plain": [
       "{'history': [SystemMessage(content=\"\\nNew lines of conversation:\\nHuman: Hi I'm ga111o, I live in South Korea. What do you think about artificial intelligence?\"),\n",
       "  AIMessage(content='Wow that is so cool!'),\n",
       "  HumanMessage(content='i thinke Sourh korea is awsome!'),\n",
       "  AIMessage(content='i agree too'),\n",
       "  HumanMessage(content='how far south korea and U.K'),\n",
       "  AIMessage(content=\"i don't know...\"),\n",
       "  HumanMessage(content='how far south korea and U.K'),\n",
       "  AIMessage(content=\"i don't know...\"),\n",
       "  HumanMessage(content='how far south korea and U.S'),\n",
       "  AIMessage(content=\"maybe..  oops, i don't know.. so far!\"),\n",
       "  HumanMessage(content='seoul is good!'),\n",
       "  AIMessage(content='yes! better than jeju!'),\n",
       "  HumanMessage(content='seoul is good!'),\n",
       "  AIMessage(content='yes! better than jeju!'),\n",
       "  HumanMessage(content='seoul is good!'),\n",
       "  AIMessage(content='yes! better than jeju!')]}"
      ]
     },
     "execution_count": 24,
     "metadata": {},
     "output_type": "execute_result"
    }
   ],
   "source": [
    "get_history()"
   ]
  },
  {
   "cell_type": "code",
   "execution_count": null,
   "metadata": {},
   "outputs": [],
   "source": []
  }
 ],
 "metadata": {
  "kernelspec": {
   "display_name": "env",
   "language": "python",
   "name": "python3"
  },
  "language_info": {
   "codemirror_mode": {
    "name": "ipython",
    "version": 3
   },
   "file_extension": ".py",
   "mimetype": "text/x-python",
   "name": "python",
   "nbconvert_exporter": "python",
   "pygments_lexer": "ipython3",
   "version": "3.11.0"
  }
 },
 "nbformat": 4,
 "nbformat_minor": 2
}
