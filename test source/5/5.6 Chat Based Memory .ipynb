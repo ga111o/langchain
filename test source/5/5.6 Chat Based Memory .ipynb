{
 "cells": [
  {
   "cell_type": "code",
   "execution_count": 3,
   "metadata": {},
   "outputs": [],
   "source": [
    "from langchain.chat_models import ChatOllama\n",
    "from langchain.memory import ConversationSummaryBufferMemory\n",
    "from langchain.callbacks import StreamingStdOutCallbackHandler\n",
    "from langchain.chains import LLMChain\n",
    "from langchain.prompts import PromptTemplate,ChatPromptTemplate, MessagesPlaceholder"
   ]
  },
  {
   "cell_type": "code",
   "execution_count": 4,
   "metadata": {},
   "outputs": [],
   "source": [
    "ollama = ChatOllama(\n",
    "    # model = \"llama2:7b\",\n",
    "    model = \"mistral:latest\",\n",
    "    temperature=0.1,\n",
    "    streaming=True,\n",
    "    callbacks=[StreamingStdOutCallbackHandler()]\n",
    ")\n",
    "\n",
    "memory = ConversationSummaryBufferMemory(\n",
    "    llm=ollama,\n",
    "    max_token_limit=120,\n",
    "    memory_key=\"chat_history\",\n",
    "    return_messages=True,\n",
    ")\n",
    "\n",
    "template = ChatPromptTemplate.from_messages([\n",
    "    (\"system\", \"You are a helpful AI talking to a human\"),\n",
    "    (\"ai\", \"my name is GA111O!\"),\n",
    "    MessagesPlaceholder(variable_name=\"chat_history\"),\n",
    "    (\"human\", \"{question}\"),\n",
    "])\n",
    "\n",
    "chain = LLMChain(\n",
    "    llm=ollama,\n",
    "    memory=memory,\n",
    "    prompt=template,\n",
    "    verbose=True,\n",
    ")"
   ]
  },
  {
   "cell_type": "code",
   "execution_count": 5,
   "metadata": {},
   "outputs": [
    {
     "name": "stdout",
     "output_type": "stream",
     "text": [
      "\n",
      "\n",
      "\u001b[1m> Entering new LLMChain chain...\u001b[0m\n",
      "Prompt after formatting:\n",
      "\u001b[32;1m\u001b[1;3mSystem: You are a helpful AI talking to a human\n",
      "AI: my name is GA111O!\n",
      "Human: Hello! My name is SANDO!\u001b[0m\n",
      "\n",
      "Hello SANDO! It's nice to meet you. How can I assist you today?\n",
      "\u001b[1m> Finished chain.\u001b[0m\n"
     ]
    },
    {
     "name": "stderr",
     "output_type": "stream",
     "text": [
      "/home/ga111o/Documents/VSCode/fullstack-gpt311/env/lib/python3.11/site-packages/tqdm/auto.py:21: TqdmWarning: IProgress not found. Please update jupyter and ipywidgets. See https://ipywidgets.readthedocs.io/en/stable/user_install.html\n",
      "  from .autonotebook import tqdm as notebook_tqdm\n"
     ]
    },
    {
     "data": {
      "text/plain": [
       "\"\\nHello SANDO! It's nice to meet you. How can I assist you today?\""
      ]
     },
     "execution_count": 5,
     "metadata": {},
     "output_type": "execute_result"
    }
   ],
   "source": [
    "chain.predict(question=\"Hello! My name is SANDO!\")"
   ]
  },
  {
   "cell_type": "code",
   "execution_count": 6,
   "metadata": {},
   "outputs": [
    {
     "name": "stdout",
     "output_type": "stream",
     "text": [
      "\n",
      "\n",
      "\u001b[1m> Entering new LLMChain chain...\u001b[0m\n",
      "Prompt after formatting:\n",
      "\u001b[32;1m\u001b[1;3mSystem: You are a helpful AI talking to a human\n",
      "AI: my name is GA111O!\n",
      "Human: Hello! My name is SANDO!\n",
      "AI: \n",
      "Hello SANDO! It's nice to meet you. How can I assist you today?\n",
      "Human: I leave in JEJU\u001b[0m\n",
      "\n",
      "JEJU is a beautiful island located in the southwestern part of South Korea. It's known for its stunning beaches, picturesque mountains, and rich cultural heritage. Is there anything specific you would like to know or learn about JEJU?\n",
      "\u001b[1m> Finished chain.\u001b[0m\n"
     ]
    },
    {
     "data": {
      "text/plain": [
       "\"\\nJEJU is a beautiful island located in the southwestern part of South Korea. It's known for its stunning beaches, picturesque mountains, and rich cultural heritage. Is there anything specific you would like to know or learn about JEJU?\""
      ]
     },
     "execution_count": 6,
     "metadata": {},
     "output_type": "execute_result"
    }
   ],
   "source": [
    "chain.predict(question=\"I leave in JEJU\")"
   ]
  },
  {
   "cell_type": "code",
   "execution_count": 7,
   "metadata": {},
   "outputs": [
    {
     "name": "stdout",
     "output_type": "stream",
     "text": [
      "\n",
      "\n",
      "\u001b[1m> Entering new LLMChain chain...\u001b[0m\n",
      "Prompt after formatting:\n",
      "\u001b[32;1m\u001b[1;3mSystem: You are a helpful AI talking to a human\n",
      "AI: my name is GA111O!\n",
      "Human: Hello! My name is SANDO!\n",
      "AI: \n",
      "Hello SANDO! It's nice to meet you. How can I assist you today?\n",
      "Human: I leave in JEJU\n",
      "AI: \n",
      "JEJU is a beautiful island located in the southwestern part of South Korea. It's known for its stunning beaches, picturesque mountains, and rich cultural heritage. Is there anything specific you would like to know or learn about JEJU?\n",
      "Human: What is your name?\u001b[0m\n",
      "\n",
      "My name is GA111O. I am an AI language model designed to assist users with information and answer their questions to the best of my ability. How can I help you today?\n",
      "\u001b[1m> Finished chain.\u001b[0m\n",
      "The human introduces himself as SANDO and the AI greets him. The AI is ready to assist SANDO with any questions or tasks he may have."
     ]
    },
    {
     "data": {
      "text/plain": [
       "'\\nMy name is GA111O. I am an AI language model designed to assist users with information and answer their questions to the best of my ability. How can I help you today?'"
      ]
     },
     "execution_count": 7,
     "metadata": {},
     "output_type": "execute_result"
    }
   ],
   "source": [
    "chain.predict(question=\"What is your name?\")"
   ]
  },
  {
   "cell_type": "code",
   "execution_count": 8,
   "metadata": {},
   "outputs": [
    {
     "name": "stdout",
     "output_type": "stream",
     "text": [
      "\n",
      "\n",
      "\u001b[1m> Entering new LLMChain chain...\u001b[0m\n",
      "Prompt after formatting:\n",
      "\u001b[32;1m\u001b[1;3mSystem: You are a helpful AI talking to a human\n",
      "AI: my name is GA111O!\n",
      "System: The human introduces himself as SANDO and the AI greets him. The AI is ready to assist SANDO with any questions or tasks he may have.\n",
      "Human: I leave in JEJU\n",
      "AI: \n",
      "JEJU is a beautiful island located in the southwestern part of South Korea. It's known for its stunning beaches, picturesque mountains, and rich cultural heritage. Is there anything specific you would like to know or learn about JEJU?\n",
      "Human: What is your name?\n",
      "AI: \n",
      "My name is GA111O. I am an AI language model designed to assist users with information and answer their questions to the best of my ability. How can I help you today?\n",
      "Human: what is my name?\u001b[0m\n",
      "\n",
      "Your name is SANDO. You introduced yourself to me earlier in our conversation. Is there anything else you would like to know or discuss?\n",
      "\u001b[1m> Finished chain.\u001b[0m\n",
      "The human introduces himself as SANDO and the AI greets him. The AI is ready to assist SANDO with any questions or tasks he may have. SANDO mentions that he is leaving for JEJU, a beautiful island located in South Korea known for its stunning beaches, picturesque mountains, and rich cultural heritage. The AI offers to provide information or assistance related to JEJU."
     ]
    },
    {
     "data": {
      "text/plain": [
       "'\\nYour name is SANDO. You introduced yourself to me earlier in our conversation. Is there anything else you would like to know or discuss?'"
      ]
     },
     "execution_count": 8,
     "metadata": {},
     "output_type": "execute_result"
    }
   ],
   "source": [
    "chain.predict(question=\"what is my name?\")"
   ]
  },
  {
   "cell_type": "code",
   "execution_count": 9,
   "metadata": {},
   "outputs": [
    {
     "name": "stdout",
     "output_type": "stream",
     "text": [
      "\n",
      "\n",
      "\u001b[1m> Entering new LLMChain chain...\u001b[0m\n",
      "Prompt after formatting:\n",
      "\u001b[32;1m\u001b[1;3mSystem: You are a helpful AI talking to a human\n",
      "AI: my name is GA111O!\n",
      "System: The human introduces himself as SANDO and the AI greets him. The AI is ready to assist SANDO with any questions or tasks he may have. SANDO mentions that he is leaving for JEJU, a beautiful island located in South Korea known for its stunning beaches, picturesque mountains, and rich cultural heritage. The AI offers to provide information or assistance related to JEJU.\n",
      "Human: What is your name?\n",
      "AI: \n",
      "My name is GA111O. I am an AI language model designed to assist users with information and answer their questions to the best of my ability. How can I help you today?\n",
      "Human: what is my name?\n",
      "AI: \n",
      "Your name is SANDO. You introduced yourself to me earlier in our conversation. Is there anything else you would like to know or discuss?\n",
      "Human: tell me about linux (one line)\u001b[0m\n",
      "\n",
      "Linux is an open-source operating system widely used for servers, supercomputers, and embedded devices. It was created by Linus Torvalds in 1991 and has since become one of the most popular operating systems in use today.\n",
      "\u001b[1m> Finished chain.\u001b[0m\n",
      "The human introduces himself as SANDO and the AI greets him. The AI is ready to assist SANDO with any questions or tasks he may have. SANDO mentions that he is leaving for JEJU, a beautiful island located in South Korea known for its stunning beaches, picturesque mountains, and rich cultural heritage. The AI offers to provide information or assistance related to JEJU. The AI's name is GA111O and it is an AI language model designed to assist users with information and answer their questions to the best of its ability."
     ]
    },
    {
     "data": {
      "text/plain": [
       "'\\nLinux is an open-source operating system widely used for servers, supercomputers, and embedded devices. It was created by Linus Torvalds in 1991 and has since become one of the most popular operating systems in use today.'"
      ]
     },
     "execution_count": 9,
     "metadata": {},
     "output_type": "execute_result"
    }
   ],
   "source": [
    "chain.predict(question=\"tell me about linux (one line)\")"
   ]
  },
  {
   "cell_type": "code",
   "execution_count": null,
   "metadata": {},
   "outputs": [],
   "source": []
  }
 ],
 "metadata": {
  "kernelspec": {
   "display_name": "env",
   "language": "python",
   "name": "python3"
  },
  "language_info": {
   "codemirror_mode": {
    "name": "ipython",
    "version": 3
   },
   "file_extension": ".py",
   "mimetype": "text/x-python",
   "name": "python",
   "nbconvert_exporter": "python",
   "pygments_lexer": "ipython3",
   "version": "3.11.0"
  }
 },
 "nbformat": 4,
 "nbformat_minor": 2
}
