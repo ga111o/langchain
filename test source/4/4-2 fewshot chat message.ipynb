{
    "cells": [
        {
            "cell_type": "markdown",
            "metadata": {},
            "source": [
                "## Model I/O part\n",
                "### fewshots chat message"
            ]
        },
        {
            "cell_type": "code",
            "execution_count": 6,
            "metadata": {},
            "outputs": [],
            "source": [
                "from langchain.chat_models import ChatOllama\n",
                "from langchain.prompts import ChatPromptTemplate\n",
                "from langchain.schema import BaseOutputParser\n",
                "from langchain.callbacks import StreamingStdOutCallbackHandler\n",
                "from langchain.prompts.few_shot import FewShotPromptTemplate, FewShotChatMessagePromptTemplate"
            ]
        },
        {
            "cell_type": "code",
            "execution_count": 7,
            "metadata": {},
            "outputs": [],
            "source": [
                "ollama = ChatOllama(\n",
                "    model = \"mistral:latest\",\n",
                "    temperature=0.1,\n",
                "    streaming=True,\n",
                "    callbacks=[StreamingStdOutCallbackHandler()]\n",
                ")"
            ]
        },
        {
            "cell_type": "code",
            "execution_count": 14,
            "metadata": {},
            "outputs": [],
            "source": [
                "examples_country_capital = [\n",
                "{\n",
                "\"country\": \"What do you know about France?\",\n",
                "\"answer\": \"\"\"\n",
                "Here is what I know:\n",
                "Capital: Paris\n",
                "Language: French\n",
                "Food: Wine and Cheese\n",
                "Currency: Euro\n",
                "\"\"\",\n",
                "},\n",
                "{\n",
                "\"country\": \"What do you know about Italy?\",\n",
                "\"answer\": \"\"\"\n",
                "I know this:\n",
                "Capital: Rome\n",
                "Language: Italian\n",
                "Food: Pizza and Pasta\n",
                "Currency: Euro\n",
                "\"\"\",\n",
                "},\n",
                "{\n",
                "\"country\": \"Greece?\",\n",
                "\"answer\": \"\"\"\n",
                "I know this:\n",
                "Capital: Athens\n",
                "Language: Greek\n",
                "Food: Souvlaki and Feta Cheese\n",
                "Currency: Euro\n",
                "\"\"\",\n",
                "},\n",
                "]\n",
                "\n",
                "#same var\n",
                "example_prompt_template = \"\"\"\n",
                "Human: {country}\n",
                "Ai:{answer} \n",
                "\"\"\"\n",
                "\n",
                "prompt_country = ChatPromptTemplate.from_messages([\n",
                "    (\"human\", \"What do you know about {question}?\"),\n",
                "    (\"ai\", \"{answer}\")\n",
                "])"
            ]
        },
        {
            "cell_type": "code",
            "execution_count": 15,
            "metadata": {},
            "outputs": [],
            "source": [
                "#format each examples\n",
                "\n",
                "prompt_country_example = FewShotChatMessagePromptTemplate(\n",
                "    example_prompt = prompt_country,\n",
                "    examples = examples_country_capital,\n",
                ")"
            ]
        },
        {
            "cell_type": "code",
            "execution_count": 33,
            "metadata": {},
            "outputs": [
                {
                    "name": "stdout",
                    "output_type": "stream",
                    "text": [
                        "I know this:\n",
                        "Capital: Berlin\n",
                        "Language: German\n",
                        "Food: Sausages and Beer\n",
                        "Currency: Euro"
                    ]
                },
                {
                    "data": {
                        "text/plain": [
                            "AIMessage(content='I know this:\\nCapital: Berlin\\nLanguage: German\\nFood: Sausages and Beer\\nCurrency: Euro')"
                        ]
                    },
                    "execution_count": 33,
                    "metadata": {},
                    "output_type": "execute_result"
                }
            ],
            "source": [
                "chain = prompt_country_example | ollama\n",
                "\n",
                "\n",
                "chain.invoke({\n",
                "    \"country\":\"Germany\"\n",
                "})"
            ]
        }
    ],
    "metadata": {
        "kernelspec": {
            "display_name": "env",
            "language": "python",
            "name": "python3"
        },
        "language_info": {
            "codemirror_mode": {
                "name": "ipython",
                "version": 3
            },
            "file_extension": ".py",
            "mimetype": "text/x-python",
            "name": "python",
            "nbconvert_exporter": "python",
            "pygments_lexer": "ipython3",
            "version": "3.11.0rc1"
        }
    },
    "nbformat": 4,
    "nbformat_minor": 2
}
