{
 "cells": [
  {
   "cell_type": "markdown",
   "metadata": {},
   "source": [
    "## Model I/O part\n",
    "### fewshots"
   ]
  },
  {
   "cell_type": "code",
   "execution_count": 8,
   "metadata": {},
   "outputs": [],
   "source": [
    "from langchain.chat_models import ChatOllama\n",
    "from langchain.prompts import PromptTemplate, ChatPromptTemplate\n",
    "from langchain.schema import BaseOutputParser\n",
    "from langchain.callbacks import StreamingStdOutCallbackHandler\n",
    "from langchain.prompts.few_shot import FewShotPromptTemplate"
   ]
  },
  {
   "cell_type": "code",
   "execution_count": 9,
   "metadata": {},
   "outputs": [],
   "source": [
    "ollama = ChatOllama(\n",
    "    model = \"mistral:latest\",\n",
    "    temperature=0.1,\n",
    "    streaming=True,\n",
    "    callbacks=[StreamingStdOutCallbackHandler()]\n",
    ")"
   ]
  },
  {
   "cell_type": "code",
   "execution_count": 10,
   "metadata": {},
   "outputs": [
    {
     "name": "stdout",
     "output_type": "stream",
     "text": [
      "\n",
      "France is a country located in Western Europe. It has a population of approximately 67 million people and its capital and largest city is Paris. France is known for its rich history, culture, art, and cuisine. Some of the famous landmarks in France include the Eiffel Tower, Notre-Dame Cathedral, the Louvre Museum, and the Palace of Versailles.\n",
      "\n",
      "France has a diverse economy, with major industries including agriculture, manufacturing, tourism, and services. The country is also known for its wine production, with regions such as Bordeaux and Champagne being famous for their wines.\n",
      "\n",
      "In terms of politics, France is a unitary semi-presidential representative democratic republic. The President of the Republic is both the head of state and government, and is elected by direct universal suffrage for a 5-year term. The French parliament consists of two chambers: the Senate and the National Assembly.\n",
      "\n",
      "France has a long history of colonialism and imperialism, and has had a significant impact on the world throughout its history. Today, France is a member of the European Union, NATO, the United Nations, and the World Trade Organization, among other international organizations."
     ]
    },
    {
     "data": {
      "text/plain": [
       "'\\nFrance is a country located in Western Europe. It has a population of approximately 67 million people and its capital and largest city is Paris. France is known for its rich history, culture, art, and cuisine. Some of the famous landmarks in France include the Eiffel Tower, Notre-Dame Cathedral, the Louvre Museum, and the Palace of Versailles.\\n\\nFrance has a diverse economy, with major industries including agriculture, manufacturing, tourism, and services. The country is also known for its wine production, with regions such as Bordeaux and Champagne being famous for their wines.\\n\\nIn terms of politics, France is a unitary semi-presidential representative democratic republic. The President of the Republic is both the head of state and government, and is elected by direct universal suffrage for a 5-year term. The French parliament consists of two chambers: the Senate and the National Assembly.\\n\\nFrance has a long history of colonialism and imperialism, and has had a significant impact on the world throughout its history. Today, France is a member of the European Union, NATO, the United Nations, and the World Trade Organization, among other international organizations.'"
      ]
     },
     "execution_count": 10,
     "metadata": {},
     "output_type": "execute_result"
    }
   ],
   "source": [
    "# no fewshot\n",
    "ollama.predict(\"what do you know about france?\")"
   ]
  },
  {
   "cell_type": "markdown",
   "metadata": {},
   "source": [
    "---\n",
    "\n",
    "## 1. setting form of example"
   ]
  },
  {
   "cell_type": "code",
   "execution_count": 28,
   "metadata": {},
   "outputs": [],
   "source": [
    "examples_country_capital = [\n",
    "{\n",
    "\"question\": \"What do you know about France?\",\n",
    "\"answer\": \"\"\"\n",
    "Here is what I know:\n",
    "Capital: Paris\n",
    "Language: French\n",
    "Food: Wine and Cheese\n",
    "Currency: Euro\n",
    "\"\"\",\n",
    "},\n",
    "{\n",
    "\"question\": \"What do you know about Italy?\",\n",
    "\"answer\": \"\"\"\n",
    "I know this:\n",
    "Capital: Rome\n",
    "Language: Italian\n",
    "Food: Pizza and Pasta\n",
    "Currency: Euro\n",
    "\"\"\",\n",
    "},\n",
    "{\n",
    "\"question\": \"What do you know about Greece?\",\n",
    "\"answer\": \"\"\"\n",
    "I know this:\n",
    "Capital: Athens\n",
    "Language: Greek\n",
    "Food: Souvlaki and Feta Cheese\n",
    "Currency: Euro\n",
    "\"\"\",\n",
    "},\n",
    "]\n",
    "\n",
    "#same var\n",
    "example_prompt_template = \"\"\"\n",
    "Human: {question}\n",
    "Ai:{answer} \n",
    "\"\"\"\n",
    "\n",
    "template = PromptTemplate.from_template(example_prompt_template)"
   ]
  },
  {
   "cell_type": "code",
   "execution_count": 29,
   "metadata": {},
   "outputs": [
    {
     "name": "stdout",
     "output_type": "stream",
     "text": [
      "\n",
      "Human: What do you know about France?\n",
      "Ai:\n",
      "Here is what I know:\n",
      "Capital: Paris\n",
      "Language: French\n",
      "Food: Wine and Cheese\n",
      "Currency: Euro\n",
      " \n",
      "\n",
      "\n",
      "\n",
      "Human: What do you know about Italy?\n",
      "Ai:\n",
      "I know this:\n",
      "Capital: Rome\n",
      "Language: Italian\n",
      "Food: Pizza and Pasta\n",
      "Currency: Euro\n",
      " \n",
      "\n",
      "\n",
      "\n",
      "Human: What do you know about Greece?\n",
      "Ai:\n",
      "I know this:\n",
      "Capital: Athens\n",
      "Language: Greek\n",
      "Food: Souvlaki and Feta Cheese\n",
      "Currency: Euro\n",
      " \n",
      "\n",
      "\n",
      "Human: What do you know about germany?\n"
     ]
    }
   ],
   "source": [
    "#format each examples\n",
    "\n",
    "prompt_country_example = FewShotPromptTemplate(\n",
    "    #example_prompt, example, ... is F.S.C.M.P.T's basic var\n",
    "    example_prompt = template,\n",
    "    examples = examples_country_capital,\n",
    "    suffix=\"Human: What do you know about {country}?\",\n",
    "    input_variables=[\"country\"],\n",
    ")\n",
    "\n",
    "print(prompt_country_example.format(country=\"germany\"))"
   ]
  },
  {
   "cell_type": "code",
   "execution_count": 30,
   "metadata": {},
   "outputs": [],
   "source": [
    "# doNotReplyElse = ChatPromptTemplate.from_messages([\n",
    "#     (\"system\", \"do NOT reply else.\"),\n",
    "# ])"
   ]
  },
  {
   "cell_type": "code",
   "execution_count": 33,
   "metadata": {},
   "outputs": [
    {
     "name": "stdout",
     "output_type": "stream",
     "text": [
      "I know this:\n",
      "Capital: Berlin\n",
      "Language: German\n",
      "Food: Sausages and Beer\n",
      "Currency: Euro"
     ]
    },
    {
     "data": {
      "text/plain": [
       "AIMessage(content='I know this:\\nCapital: Berlin\\nLanguage: German\\nFood: Sausages and Beer\\nCurrency: Euro')"
      ]
     },
     "execution_count": 33,
     "metadata": {},
     "output_type": "execute_result"
    }
   ],
   "source": [
    "# chain = prompt_country_example | doNotReplyElse | ollama\n",
    "chain = prompt_country_example | ollama\n",
    "\n",
    "\n",
    "chain.invoke({\n",
    "    \"country\":\"Germany\"\n",
    "})"
   ]
  }
 ],
 "metadata": {
  "kernelspec": {
   "display_name": "env",
   "language": "python",
   "name": "python3"
  },
  "language_info": {
   "codemirror_mode": {
    "name": "ipython",
    "version": 3
   },
   "file_extension": ".py",
   "mimetype": "text/x-python",
   "name": "python",
   "nbconvert_exporter": "python",
   "pygments_lexer": "ipython3",
   "version": "3.11.0rc1"
  }
 },
 "nbformat": 4,
 "nbformat_minor": 2
}
