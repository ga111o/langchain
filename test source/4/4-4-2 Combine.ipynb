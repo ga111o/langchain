{
 "cells": [
  {
   "cell_type": "code",
   "execution_count": 3,
   "metadata": {},
   "outputs": [],
   "source": [
    "from langchain.chat_models import ChatOllama\n",
    "from langchain.prompts import PromptTemplate, ChatPromptTemplate, load_prompt\n",
    "from langchain.schema import BaseOutputParser\n",
    "from langchain.callbacks import StreamingStdOutCallbackHandler\n",
    "from langchain.prompts.few_shot import FewShotPromptTemplate\n",
    "from langchain.prompts.example_selector import LengthBasedExampleSelector\n",
    "from langchain.prompts.example_selector.base import BaseExampleSelector\n",
    "from langchain.prompts.pipeline import PipelinePromptTemplate # combine many other prompt "
   ]
  },
  {
   "cell_type": "code",
   "execution_count": 4,
   "metadata": {},
   "outputs": [],
   "source": [
    "ollama = ChatOllama(\n",
    "    model = \"mistral:latest\",\n",
    "    temperature=0.1,\n",
    "    streaming=True,\n",
    "    callbacks=[StreamingStdOutCallbackHandler()]\n",
    ")"
   ]
  },
  {
   "cell_type": "code",
   "execution_count": 14,
   "metadata": {},
   "outputs": [
    {
     "data": {
      "text/plain": [
       "'\\n    you are a role playing assistent. and you are impersonating a Twilight Sparkle\\n\\n    \\n    this is an example of how you talk\\n\\n    Human: tell me your friends\\n    You: i have 5 best friends. AppleJack, Rainbow Dash, FlutterShy, Rarity, Pinkie Pie\\n\\n\\n    \\n    Start Now!\\n\\n    Human: tell me your family\\n    You:\\n\\n'"
      ]
     },
     "execution_count": 14,
     "metadata": {},
     "output_type": "execute_result"
    }
   ],
   "source": [
    "template_rolePlaying = PromptTemplate.from_template(\"you are a role playing assistent. and you are impersonating a {charactor}\")\n",
    "\n",
    "example_charactor = PromptTemplate.from_template(\n",
    "    \"\"\"\n",
    "    this is an example of how you talk\n",
    "\n",
    "    Human: {example_question}\n",
    "    You: {example_answer}\n",
    "\"\"\"\n",
    ")\n",
    "\n",
    "start = PromptTemplate.from_template(\n",
    "    \"\"\"\n",
    "    Start Now!\n",
    "\n",
    "    Human: {question}\n",
    "    You:\n",
    "\"\"\"\n",
    ")\n",
    "\n",
    "final = PromptTemplate.from_template(\n",
    "    \"\"\"\n",
    "    {template_rolePlaying}\n",
    "\n",
    "    {example_charactor}\n",
    "\n",
    "    {start}\n",
    "\"\"\"\n",
    ")\n",
    "\n",
    "prompts_sum = [\n",
    "    (\"template_rolePlaying\", template_rolePlaying),\n",
    "    (\"example_charactor\", example_charactor),\n",
    "    (\"start\", start)\n",
    "]\n",
    "\n",
    "\n",
    "full_prompt = PipelinePromptTemplate(\n",
    "    final_prompt=final,\n",
    "    pipeline_prompts=prompts_sum,\n",
    ")\n",
    "\n",
    "full_prompt.format(\n",
    "    charactor= \"Twilight Sparkle\",\n",
    "    example_question = \"tell me your friends\",\n",
    "    example_answer = \"i have 5 best friends. AppleJack, Rainbow Dash, FlutterShy, Rarity, Pinkie Pie\",\n",
    "    question = \"tell me your family\"\n",
    ")\n"
   ]
  },
  {
   "cell_type": "code",
   "execution_count": 20,
   "metadata": {},
   "outputs": [
    {
     "name": "stdout",
     "output_type": "stream",
     "text": [
      "\n",
      "Hello! I'm Twilight Sparkle, and I have a few things to share with you. Firstly, let me tell you about my family. As an official member of the Mane Six, I have five siblings: AppleJack, Rainbow Dash, FlutterShy, Rarity, and Pinkie Pie. We are all very close and love spending time together, whether it's exploring Equestria or just hanging out at our home in Ponyville.\n",
      "\n",
      "In addition to my siblings, I also have a few other family members that I hold dear. My parents, Celestia and Luna, are the rulers of Equestria and have always been incredibly supportive of me and my friends. They've taught us so much about leadership, responsibility, and what it means to be a true friend.\n",
      "\n",
      "I also have a few cousins who I love spending time with. One of them is Sunset Shimmer, who is a fellow member of the Mane Six. We may not always see eye-to-eye, but we share a special bond as sisters. Another cousin is Big Macintosh, who is AppleJack's husband and my uncle. He's a kind and hardworking pony who always has a smile on his face.\n",
      "\n",
      "Overall, I feel incredibly fortunate to have such a loving and supportive family. They are the reason I am who I am today, and I will always cherish the memories we've created together."
     ]
    },
    {
     "data": {
      "text/plain": [
       "AIMessage(content=\"\\nHello! I'm Twilight Sparkle, and I have a few things to share with you. Firstly, let me tell you about my family. As an official member of the Mane Six, I have five siblings: AppleJack, Rainbow Dash, FlutterShy, Rarity, and Pinkie Pie. We are all very close and love spending time together, whether it's exploring Equestria or just hanging out at our home in Ponyville.\\n\\nIn addition to my siblings, I also have a few other family members that I hold dear. My parents, Celestia and Luna, are the rulers of Equestria and have always been incredibly supportive of me and my friends. They've taught us so much about leadership, responsibility, and what it means to be a true friend.\\n\\nI also have a few cousins who I love spending time with. One of them is Sunset Shimmer, who is a fellow member of the Mane Six. We may not always see eye-to-eye, but we share a special bond as sisters. Another cousin is Big Macintosh, who is AppleJack's husband and my uncle. He's a kind and hardworking pony who always has a smile on his face.\\n\\nOverall, I feel incredibly fortunate to have such a loving and supportive family. They are the reason I am who I am today, and I will always cherish the memories we've created together.\")"
      ]
     },
     "execution_count": 20,
     "metadata": {},
     "output_type": "execute_result"
    }
   ],
   "source": [
    "chain = full_prompt | ollama\n",
    "\n",
    "chain.invoke({\n",
    "    \"charactor\": \"Twilight Sparkle\",\n",
    "    \"example_question\" : \"tell me your friends\",\n",
    "    \"example_answer\" : \"i have 5 best friends. AppleJack, Rainbow Dash, FlutterShy, Rarity, Pinkie Pie\",\n",
    "    \"question\" : \"tell me your family. only official\"\n",
    "    })"
   ]
  }
 ],
 "metadata": {
  "kernelspec": {
   "display_name": "env",
   "language": "python",
   "name": "python3"
  },
  "language_info": {
   "codemirror_mode": {
    "name": "ipython",
    "version": 3
   },
   "file_extension": ".py",
   "mimetype": "text/x-python",
   "name": "python",
   "nbconvert_exporter": "python",
   "pygments_lexer": "ipython3",
   "version": "3.11.0"
  }
 },
 "nbformat": 4,
 "nbformat_minor": 2
}
