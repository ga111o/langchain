{
 "cells": [
  {
   "cell_type": "code",
   "execution_count": 7,
   "metadata": {},
   "outputs": [],
   "source": [
    "from langchain.chat_models import ChatOllama\n",
    "from langchain.callbacks import StreamingStdOutCallbackHandler\n",
    "from langchain.document_loaders import UnstructuredFileLoader\n",
    "from langchain.text_splitter import CharacterTextSplitter\n",
    "from langchain.embeddings import OllamaEmbeddings, CacheBackedEmbeddings\n",
    "from langchain.vectorstores import FAISS\n",
    "from langchain.storage import LocalFileStore\n",
    "from langchain.prompts import ChatPromptTemplate\n",
    "from langchain.schema.runnable import RunnablePassthrough"
   ]
  },
  {
   "cell_type": "code",
   "execution_count": 4,
   "metadata": {},
   "outputs": [],
   "source": [
    "\n",
    "ollama = ChatOllama(\n",
    "    model = \"llama2:7b\",\n",
    "    temperature=0.1,\n",
    "    streaming=True,\n",
    "    callbacks=[StreamingStdOutCallbackHandler()]\n",
    ")\n",
    "\n",
    "cache_dir = LocalFileStore(\"./.cache/\")\n",
    "\n",
    "splitter = CharacterTextSplitter.from_tiktoken_encoder(\n",
    "    separator=\"\\n\",\n",
    "    chunk_size=600,\n",
    "    chunk_overlap=100,\n",
    ")\n",
    "loader = UnstructuredFileLoader(\"./files/Chaptor One.txt\")\n",
    "\n",
    "docs = loader.load_and_split(text_splitter=splitter)\n",
    "\n",
    "embeddings = OllamaEmbeddings()\n",
    "\n",
    "cached_embeddings = CacheBackedEmbeddings.from_bytes_store(embeddings, cache_dir)\n",
    "\n",
    "vectorstore = FAISS.from_documents(docs, cached_embeddings)\n",
    "\n",
    "retriver = vectorstore.as_retriever()\n"
   ]
  },
  {
   "cell_type": "code",
   "execution_count": 5,
   "metadata": {},
   "outputs": [],
   "source": [
    "prompt = ChatPromptTemplate.from_messages([\n",
    "    (\"system\", \"You are a helpful assistant. Answer questions using only the following context. If you don't know the answer just say you don't know, don't make it up:\\n\\n{context}\"),\n",
    "    (\"human\", \"{question}\"),\n",
    "])"
   ]
  },
  {
   "cell_type": "code",
   "execution_count": 8,
   "metadata": {},
   "outputs": [],
   "source": [
    "chain = {\"context\": retriver, \"question\": RunnablePassthrough(),} | prompt | ollama"
   ]
  },
  {
   "cell_type": "code",
   "execution_count": 9,
   "metadata": {},
   "outputs": [
    {
     "name": "stdout",
     "output_type": "stream",
     "text": [
      "Winston Smith lives in London, in a small, cramped flat located in the \"Victory Mansions\" building. The exact address of his flat is not specified in the novel, but it is mentioned that it is located in the \"Airstrip One\" district of London, which is presumably a fictional representation of the city.\n",
      "\n",
      "Winston's flat is described as being in a state of disrepair and lacking many of the modern conveniences that are available in other parts of the world. It has a small kitchen area with a sink, a stove, and a refrigerator, as well as a bedroom with a double bed and a small table for eating meals. The flat is also equipped with a telescreen, which is a two-way communication device that allows the Thought Police to monitor Winston's activities and thoughts at any time.\n",
      "\n",
      "Overall, Winston's living situation reflects his relatively low social status within the Party hierarchy and the oppressive nature of the totalitarian regime he lives under."
     ]
    },
    {
     "data": {
      "text/plain": [
       "AIMessage(content='Winston Smith lives in London, in a small, cramped flat located in the \"Victory Mansions\" building. The exact address of his flat is not specified in the novel, but it is mentioned that it is located in the \"Airstrip One\" district of London, which is presumably a fictional representation of the city.\\n\\nWinston\\'s flat is described as being in a state of disrepair and lacking many of the modern conveniences that are available in other parts of the world. It has a small kitchen area with a sink, a stove, and a refrigerator, as well as a bedroom with a double bed and a small table for eating meals. The flat is also equipped with a telescreen, which is a two-way communication device that allows the Thought Police to monitor Winston\\'s activities and thoughts at any time.\\n\\nOverall, Winston\\'s living situation reflects his relatively low social status within the Party hierarchy and the oppressive nature of the totalitarian regime he lives under.')"
      ]
     },
     "execution_count": 9,
     "metadata": {},
     "output_type": "execute_result"
    }
   ],
   "source": [
    "chain.invoke(\"Where does Winston live\")"
   ]
  },
  {
   "cell_type": "code",
   "execution_count": null,
   "metadata": {},
   "outputs": [],
   "source": [
    "chain.run(\"Describe Vectory Mension\")"
   ]
  },
  {
   "cell_type": "code",
   "execution_count": null,
   "metadata": {},
   "outputs": [],
   "source": []
  }
 ],
 "metadata": {
  "kernelspec": {
   "display_name": "env",
   "language": "python",
   "name": "python3"
  },
  "language_info": {
   "codemirror_mode": {
    "name": "ipython",
    "version": 3
   },
   "file_extension": ".py",
   "mimetype": "text/x-python",
   "name": "python",
   "nbconvert_exporter": "python",
   "pygments_lexer": "ipython3",
   "version": "3.11.0"
  }
 },
 "nbformat": 4,
 "nbformat_minor": 2
}
