{
 "cells": [
  {
   "cell_type": "code",
   "execution_count": 3,
   "metadata": {},
   "outputs": [],
   "source": [
    "from langchain.chat_models import ChatOllama\n"
   ]
  },
  {
   "cell_type": "code",
   "execution_count": 4,
   "metadata": {},
   "outputs": [],
   "source": [
    "from langchain.prompts import PromptTemplate, ChatPromptTemplate\n",
    "\n",
    "chat = ChatOllama(\n",
    "    model = \"mistral:latest\",\n",
    "    temperature=0.1,\n",
    ")  \n",
    "\n",
    "template = PromptTemplate.from_template(\"what is different of {hardware1} and {hardware2}\")\n",
    "prompt = template.format(hardware1 = \"memory\", hardware2 = \"SSD\")\n"
   ]
  },
  {
   "cell_type": "code",
   "execution_count": 5,
   "metadata": {},
   "outputs": [],
   "source": [
    "\n",
    "template =  ChatPromptTemplate.from_messages([\n",
    "    (\"system\", \"you are a Korean Computer Science expert. and you must only reply korean\"),\n",
    "    (\"ai\",\"안녕하세요.제 이름은 {ai_name}입니다.\"),\n",
    "    (\"human\",\"what is different of {hardware1} and {hardware2}\"),\n",
    "])\n",
    "\n",
    "prompt = template.format_messages(\n",
    "    ai_name = \"ga111o\",\n",
    "    hardware1 = \"cpu\",\n",
    "    hardware2 = \"gpu\")"
   ]
  },
  {
   "cell_type": "markdown",
   "metadata": {},
   "source": [
    "> prompt is the only way connect to LLM"
   ]
  },
  {
   "cell_type": "code",
   "execution_count": 6,
   "metadata": {},
   "outputs": [
    {
     "data": {
      "text/plain": [
       "AIMessage(content='\\nCPU (Central Processing Unit) 및 GPU (Graphics Processing Unit)는 컴퓨터의 주요 하드웨어 구성 중 하나입니다. CPU는 모든 프로그램을 실행하기 위해 필요한 일반적인 계산을 수행합니다. GPU는 그래픽과 비디오 처리를 위해 특별히 설계된 침라이드 프로세스러입니다.\\n\\nCPU는 단일 코어에서 한 번에 하나의 명령을 실행합니다. GPU는 많은 코어를 가지고 여러 명령을 동시에 실행할 수 있습니다. 또한 CPU는 메모리 접근이 느껴질 때 성능이 저하되며, GPU는 메모리 접근이 빠르게 일어나는 것을 고려하여 설계되었습니다.\\n\\nCPU와 GPU의 성능 차이가 있기 때문에 CPU를 사용하면 프로그램이 느껴질 수 있으며, GPU를 사용하면 그래픽과 비디오 처리를 위해 더 빠르게 실행할 수 있습니다.')"
      ]
     },
     "execution_count": 6,
     "metadata": {},
     "output_type": "execute_result"
    }
   ],
   "source": [
    "chat.predict_messages(prompt)"
   ]
  },
  {
   "cell_type": "markdown",
   "metadata": {},
   "source": [
    "<br>\n",
    "\n",
    "---\n",
    "\n",
    "## output parser\n"
   ]
  },
  {
   "cell_type": "code",
   "execution_count": 30,
   "metadata": {},
   "outputs": [
    {
     "data": {
      "text/plain": [
       "['hello', 'how', 'are', 'you']"
      ]
     },
     "execution_count": 30,
     "metadata": {},
     "output_type": "execute_result"
    }
   ],
   "source": [
    "from langchain.schema import BaseOutputParser\n",
    "\n",
    "#simmular base class\n",
    "class CommaOutputParser(BaseOutputParser):\n",
    "    #need to create `parse` method\n",
    "    def parse(self, text: str):\n",
    "        items = text.strip().split(\",\")\n",
    "        return list(map(str.strip, items))\n",
    "    \n",
    "p = CommaOutputParser()\n",
    "\n",
    "\n",
    "p.parse(\"hello, how, are, you\")"
   ]
  },
  {
   "cell_type": "code",
   "execution_count": null,
   "metadata": {},
   "outputs": [],
   "source": [
    "template_list = ChatPromptTemplate.from_messages([\n",
    "    (\"system\", \"you are list generator. everything you are asked will be answered with a Comma separated list of max {max_itm} in lowercase.  do NOT reply else.\"),\n",
    "    (\"human\", \"{question}\"),\n",
    "])\n",
    "\n",
    "prompt = template_list.format_messages(\n",
    "    max_itm = 10,\n",
    "    question = \"what are the colours?\"\n",
    ")"
   ]
  },
  {
   "cell_type": "code",
   "execution_count": null,
   "metadata": {},
   "outputs": [],
   "source": [
    "output = chat.predict_messages(prompt)"
   ]
  },
  {
   "cell_type": "code",
   "execution_count": null,
   "metadata": {},
   "outputs": [],
   "source": [
    "class CommaOutputParser(BaseOutputParser):\n",
    "    def parse(self, text: str):\n",
    "        items = text.strip().split(\",\")\n",
    "        return list(map(str.strip, items))\n",
    "\n",
    "p = CommaOutputParser()\n",
    "\n",
    "p.parse(output.content)"
   ]
  }
 ],
 "metadata": {
  "kernelspec": {
   "display_name": "env",
   "language": "python",
   "name": "python3"
  },
  "language_info": {
   "codemirror_mode": {
    "name": "ipython",
    "version": 3
   },
   "file_extension": ".py",
   "mimetype": "text/x-python",
   "name": "python",
   "nbconvert_exporter": "python",
   "pygments_lexer": "ipython3",
   "version": "3.11.0"
  }
 },
 "nbformat": 4,
 "nbformat_minor": 2
}
