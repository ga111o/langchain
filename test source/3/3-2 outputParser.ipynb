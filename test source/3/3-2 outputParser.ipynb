{
 "cells": [
  {
   "cell_type": "markdown",
   "metadata": {},
   "source": [
    "# chain\n",
    "\n",
    "```\n",
    "chain1 = template | chat | parseFunc()\n",
    "chain2 = template2 | other_chatModel | parseFunc2()\n",
    "\n",
    "chain1.invoke({\n",
    "    \"inner_argument\":\"asdfasdf\",\n",
    "})\n",
    "\n",
    "chain2.invoke({\n",
    "    \"other_inner_arg\": \"ga111o!\",\n",
    "})\n",
    "```\n",
    "\n",
    "```\n",
    "all = chain1 | chain2 | outPutParser()\n",
    "```\n",
    "input chain1's output at chain2\n",
    "\n",
    "**chain** is composed `Template`,`Language Model`, `Output Parser`\n",
    "\n",
    "internally, langchain call `format_messages()`, tehn call `chat.predict()`, then call `parseFunc()`\n",
    "\n",
    "<br>\n",
    "\n",
    "additionally, `|` is like to `.then`.\n",
    "\n",
    "```\n",
    "a = print(\"a\") | print(\"b\")\n",
    "(it is error, just neu GGim man)\n",
    "```\n",
    "return `a b`"
   ]
  },
  {
   "cell_type": "code",
   "execution_count": 2,
   "metadata": {},
   "outputs": [],
   "source": [
    "from langchain.chat_models import ChatOllama\n",
    "from langchain.prompts import ChatPromptTemplate\n",
    "from langchain.schema import BaseOutputParser\n",
    "\n",
    "\n",
    "# model\n",
    "\n",
    "chat = ChatOllama(\n",
    "    model = \"mistral:latest\",\n",
    "    temperature=0.1,\n",
    ")"
   ]
  },
  {
   "cell_type": "code",
   "execution_count": 13,
   "metadata": {},
   "outputs": [
    {
     "data": {
      "text/plain": [
       "['1. color1', '2. color2', '3. color3']"
      ]
     },
     "execution_count": 13,
     "metadata": {},
     "output_type": "execute_result"
    }
   ],
   "source": [
    "class CommaOutputParser(BaseOutputParser):\n",
    "    def parse(self, text: str):\n",
    "        items = text.strip().split(\",\")\n",
    "        return list(map(str.strip, items))\n",
    "\n",
    "CommaOutputParser().parse(\"1. color1,\\n2. color2,\\n3. color3\")"
   ]
  },
  {
   "cell_type": "code",
   "execution_count": 16,
   "metadata": {},
   "outputs": [
    {
     "name": "stdout",
     "output_type": "stream",
     "text": [
      "input_variables=['max_itm', 'question'] messages=[SystemMessagePromptTemplate(prompt=PromptTemplate(input_variables=['max_itm'], template='you are list generator. everything you are asked will be answered with a COMMA SEPARATED list of max {max_itm} in lowercase. do NOT reply else. must be COMMA SEPARATED LIST')), HumanMessagePromptTemplate(prompt=PromptTemplate(input_variables=['question'], template='{question}'))]\n"
     ]
    }
   ],
   "source": [
    "#template\n",
    "\n",
    "template = ChatPromptTemplate.from_messages([\n",
    "    (\"system\", \"you are list generator. everything you are asked will be answered with a COMMA SEPARATED list of max {max_itm} in lowercase. do NOT reply else. must be COMMA SEPARATED LIST\"),\n",
    "    (\"human\", \"{question}\"),\n",
    "])"
   ]
  },
  {
   "cell_type": "code",
   "execution_count": 12,
   "metadata": {},
   "outputs": [
    {
     "data": {
      "text/plain": [
       "['1. red',\n",
       " 'blue',\n",
       " 'green',\n",
       " 'yellow',\n",
       " 'orange\\n2. purple',\n",
       " 'pink',\n",
       " 'brown',\n",
       " 'gray',\n",
       " 'black\\n3. white',\n",
       " 'silver',\n",
       " 'gold',\n",
       " 'maroon',\n",
       " 'navy\\n4. teal',\n",
       " 'coral',\n",
       " 'turquoise',\n",
       " 'magenta',\n",
       " 'lavender\\n5. olive',\n",
       " 'beige',\n",
       " 'mustard',\n",
       " 'peach',\n",
       " 'plum']"
      ]
     },
     "execution_count": 12,
     "metadata": {},
     "output_type": "execute_result"
    }
   ],
   "source": [
    "chain = template | chat | CommaOutputParser()\n",
    "\n",
    "chain.invoke({\n",
    "    \"max_itm\": 5,\n",
    "    \"question\": \"What are the colour?\"\n",
    "    })\n",
    "\n",
    "# i think this output is just Model's limit"
   ]
  },
  {
   "cell_type": "code",
   "execution_count": null,
   "metadata": {},
   "outputs": [],
   "source": []
  }
 ],
 "metadata": {
  "kernelspec": {
   "display_name": "env",
   "language": "python",
   "name": "python3"
  },
  "language_info": {
   "codemirror_mode": {
    "name": "ipython",
    "version": 3
   },
   "file_extension": ".py",
   "mimetype": "text/x-python",
   "name": "python",
   "nbconvert_exporter": "python",
   "pygments_lexer": "ipython3",
   "version": "3.11.0rc1"
  }
 },
 "nbformat": 4,
 "nbformat_minor": 2
}
